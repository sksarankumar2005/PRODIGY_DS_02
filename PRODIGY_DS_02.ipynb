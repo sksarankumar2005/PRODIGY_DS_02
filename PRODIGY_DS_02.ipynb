{
 "cells": [
  {
   "cell_type": "markdown",
   "id": "a5139da7-36d0-4faf-95a0-45f93b8c5266",
   "metadata": {},
   "source": [
    "## Data Cleaning and Exploratory Data Analysis (EDA) on Titanic Dataset
"
   ]
  },
  ,
  {
   "cell_type": "markdown",
   "id": "a7bb6690-d05b-470e-bf02-fa707b7648af",
   "metadata": {},
   "source": [
    "#### Perform data cleaning and exploratory data analysis (EDA) on a dataset of your choice, such as the Titanic dataset from Kaggle. Explore the relationships between variables and identify patterns and trends in the data."
   ]
  },
  {
   "cell_type": "markdown",
   "id": "91126a31-c08d-41ef-a940-332c638f6d6e",
   "metadata": {},
   "source": [
    "#### Sample dataset :Titanic dataset"
   ]
  },
  {
   "cell_type": "code",
   "execution_count": 5,
   "id": "3d87b837-021b-4a51-ba4b-f459d63b39d3",
   "metadata": {},
   "outputs": [],
   "source": [
    "import pandas as pd\n",
    "import numpy as np\n",
    "import matplotlib.pyplot as plt\n",
    "from warnings import filterwarnings\n",
    "filterwarnings(action='ignore')"
   ]
  },
  {
   "cell_type": "code",
   "execution_count": 7,
   "id": "4b9469ca-fa53-4f3e-992d-b95fbb5427c0",
   "metadata": {},
   "outputs": [
    {
     "data": {
      "text/html": [
       "<div>\n",
       "<style scoped>\n",
       "    .dataframe tbody tr th:only-of-type {\n",
       "        vertical-align: middle;\n",
       "    }\n",
       "\n",
       "    .dataframe tbody tr th {\n",
       "        vertical-align: top;\n",
       "    }\n",
       "\n",
       "    .dataframe thead th {\n",
       "        text-align: right;\n",
       "    }\n",
       "</style>\n",
       "<table border=\"1\" class=\"dataframe\">\n",
       "  <thead>\n",
       "    <tr style=\"text-align: right;\">\n",
       "      <th></th>\n",
       "      <th>PassengerId</th>\n",
       "      <th>Survived</th>\n",
       "      <th>Pclass</th>\n",
       "      <th>Name</th>\n",
       "      <th>Sex</th>\n",
       "      <th>...</th>\n",
       "      <th>Parch</th>\n",
       "      <th>Ticket</th>\n",
       "      <th>Fare</th>\n",
       "      <th>Cabin</th>\n",
       "      <th>Embarked</th>\n",
       "    </tr>\n",
       "  </thead>\n",
       "  <tbody>\n",
       "    <tr>\n",
       "      <th>0</th>\n",
       "      <td>1</td>\n",
       "      <td>0</td>\n",
       "      <td>3</td>\n",
       "      <td>Braund, Mr. Owen Harris</td>\n",
       "      <td>male</td>\n",
       "      <td>...</td>\n",
       "      <td>0</td>\n",
       "      <td>A/5 21171</td>\n",
       "      <td>7.2500</td>\n",
       "      <td>NaN</td>\n",
       "      <td>S</td>\n",
       "    </tr>\n",
       "    <tr>\n",
       "      <th>1</th>\n",
       "      <td>2</td>\n",
       "      <td>1</td>\n",
       "      <td>1</td>\n",
       "      <td>Cumings, Mrs. John Bradley (Florence Briggs Th...</td>\n",
       "      <td>female</td>\n",
       "      <td>...</td>\n",
       "      <td>0</td>\n",
       "      <td>PC 17599</td>\n",
       "      <td>71.2833</td>\n",
       "      <td>C85</td>\n",
       "      <td>C</td>\n",
       "    </tr>\n",
       "    <tr>\n",
       "      <th>2</th>\n",
       "      <td>3</td>\n",
       "      <td>1</td>\n",
       "      <td>3</td>\n",
       "      <td>Heikkinen, Miss. Laina</td>\n",
       "      <td>female</td>\n",
       "      <td>...</td>\n",
       "      <td>0</td>\n",
       "      <td>STON/O2. 3101282</td>\n",
       "      <td>7.9250</td>\n",
       "      <td>NaN</td>\n",
       "      <td>S</td>\n",
       "    </tr>\n",
       "    <tr>\n",
       "      <th>3</th>\n",
       "      <td>4</td>\n",
       "      <td>1</td>\n",
       "      <td>1</td>\n",
       "      <td>Futrelle, Mrs. Jacques Heath (Lily May Peel)</td>\n",
       "      <td>female</td>\n",
       "      <td>...</td>\n",
       "      <td>0</td>\n",
       "      <td>113803</td>\n",
       "      <td>53.1000</td>\n",
       "      <td>C123</td>\n",
       "      <td>S</td>\n",
       "    </tr>\n",
       "    <tr>\n",
       "      <th>4</th>\n",
       "      <td>5</td>\n",
       "      <td>0</td>\n",
       "      <td>3</td>\n",
       "      <td>Allen, Mr. William Henry</td>\n",
       "      <td>male</td>\n",
       "      <td>...</td>\n",
       "      <td>0</td>\n",
       "      <td>373450</td>\n",
       "      <td>8.0500</td>\n",
       "      <td>NaN</td>\n",
       "      <td>S</td>\n",
       "    </tr>\n",
       "  </tbody>\n",
       "</table>\n",
       "<p>5 rows × 12 columns</p>\n",
       "</div>"
      ],
      "text/plain": [
       "   PassengerId  Survived  Pclass                                               Name     Sex  ...  Parch            Ticket     Fare Cabin  Embarked\n",
       "0            1         0       3                            Braund, Mr. Owen Harris    male  ...      0         A/5 21171   7.2500   NaN         S\n",
       "1            2         1       1  Cumings, Mrs. John Bradley (Florence Briggs Th...  female  ...      0          PC 17599  71.2833   C85         C\n",
       "2            3         1       3                             Heikkinen, Miss. Laina  female  ...      0  STON/O2. 3101282   7.9250   NaN         S\n",
       "3            4         1       1       Futrelle, Mrs. Jacques Heath (Lily May Peel)  female  ...      0            113803  53.1000  C123         S\n",
       "4            5         0       3                           Allen, Mr. William Henry    male  ...      0            373450   8.0500   NaN         S\n",
       "\n",
       "[5 rows x 12 columns]"
      ]
     },
     "execution_count": 7,
     "metadata": {},
     "output_type": "execute_result"
    }
   ],
   "source": [
    "pd.set_option('display.max_columns',10,'display.width',1000)\n",
    "train = pd.read_csv(r'C:\\Users\\Lenovo\\Downloads\\FILESSSS\\train.csv')\n",
    "test = pd.read_csv(r'C:\\Users\\Lenovo\\Downloads\\FILESSSS\\test.csv')\n",
    "train.head()"
   ]
  },
  {
   "cell_type": "code",
   "execution_count": 8,
   "id": "7dfed9a6-4702-4c17-92a6-6312a5862d26",
   "metadata": {},
   "outputs": [
    {
     "data": {
      "text/plain": [
       "(891, 12)"
      ]
     },
     "execution_count": 8,
     "metadata": {},
     "output_type": "execute_result"
    }
   ],
   "source": [
    "train.shape"
   ]
  },
  {
   "cell_type": "code",
   "execution_count": 9,
   "id": "549ec9f7-a9e6-4633-a786-1aa50c14191e",
   "metadata": {},
   "outputs": [
    {
     "data": {
      "text/plain": [
       "(418, 11)"
      ]
     },
     "execution_count": 9,
     "metadata": {},
     "output_type": "execute_result"
    }
   ],
   "source": [
    "test.shape"
   ]
  },
  {
   "cell_type": "code",
   "execution_count": 10,
   "id": "b8e887b0-eaeb-4452-a59f-312d7014cafa",
   "metadata": {},
   "outputs": [
    {
     "data": {
      "text/plain": [
       "PassengerId      0\n",
       "Survived         0\n",
       "Pclass           0\n",
       "Name             0\n",
       "Sex              0\n",
       "Age            177\n",
       "SibSp            0\n",
       "Parch            0\n",
       "Ticket           0\n",
       "Fare             0\n",
       "Cabin          687\n",
       "Embarked         2\n",
       "dtype: int64"
      ]
     },
     "execution_count": 10,
     "metadata": {},
     "output_type": "execute_result"
    }
   ],
   "source": [
    "train.isnull().sum()"
   ]
  },
  {
   "cell_type": "code",
   "execution_count": 11,
   "id": "5f54df19-6797-4e05-a1c1-251feb1c256b",
   "metadata": {},
   "outputs": [
    {
     "data": {
      "text/plain": [
       "PassengerId      0\n",
       "Pclass           0\n",
       "Name             0\n",
       "Sex              0\n",
       "Age             86\n",
       "SibSp            0\n",
       "Parch            0\n",
       "Ticket           0\n",
       "Fare             1\n",
       "Cabin          327\n",
       "Embarked         0\n",
       "dtype: int64"
      ]
     },
     "execution_count": 11,
     "metadata": {},
     "output_type": "execute_result"
    }
   ],
   "source": [
    "test.isnull().sum()"
   ]
  },
  {
   "cell_type": "code",
   "execution_count": 12,
   "id": "a5076c23-b3e3-4fc8-8c8d-62fb265262ad",
   "metadata": {},
   "outputs": [
    {
     "data": {
      "text/html": [
       "<div>\n",
       "<style scoped>\n",
       "    .dataframe tbody tr th:only-of-type {\n",
       "        vertical-align: middle;\n",
       "    }\n",
       "\n",
       "    .dataframe tbody tr th {\n",
       "        vertical-align: top;\n",
       "    }\n",
       "\n",
       "    .dataframe thead th {\n",
       "        text-align: right;\n",
       "    }\n",
       "</style>\n",
       "<table border=\"1\" class=\"dataframe\">\n",
       "  <thead>\n",
       "    <tr style=\"text-align: right;\">\n",
       "      <th></th>\n",
       "      <th>PassengerId</th>\n",
       "      <th>Survived</th>\n",
       "      <th>Pclass</th>\n",
       "      <th>Name</th>\n",
       "      <th>Sex</th>\n",
       "      <th>...</th>\n",
       "      <th>Parch</th>\n",
       "      <th>Ticket</th>\n",
       "      <th>Fare</th>\n",
       "      <th>Cabin</th>\n",
       "      <th>Embarked</th>\n",
       "    </tr>\n",
       "  </thead>\n",
       "  <tbody>\n",
       "    <tr>\n",
       "      <th>count</th>\n",
       "      <td>891.000000</td>\n",
       "      <td>891.000000</td>\n",
       "      <td>891.000000</td>\n",
       "      <td>891</td>\n",
       "      <td>891</td>\n",
       "      <td>...</td>\n",
       "      <td>891.000000</td>\n",
       "      <td>891</td>\n",
       "      <td>891.000000</td>\n",
       "      <td>204</td>\n",
       "      <td>889</td>\n",
       "    </tr>\n",
       "    <tr>\n",
       "      <th>unique</th>\n",
       "      <td>NaN</td>\n",
       "      <td>NaN</td>\n",
       "      <td>NaN</td>\n",
       "      <td>891</td>\n",
       "      <td>2</td>\n",
       "      <td>...</td>\n",
       "      <td>NaN</td>\n",
       "      <td>681</td>\n",
       "      <td>NaN</td>\n",
       "      <td>147</td>\n",
       "      <td>3</td>\n",
       "    </tr>\n",
       "    <tr>\n",
       "      <th>top</th>\n",
       "      <td>NaN</td>\n",
       "      <td>NaN</td>\n",
       "      <td>NaN</td>\n",
       "      <td>Braund, Mr. Owen Harris</td>\n",
       "      <td>male</td>\n",
       "      <td>...</td>\n",
       "      <td>NaN</td>\n",
       "      <td>347082</td>\n",
       "      <td>NaN</td>\n",
       "      <td>B96 B98</td>\n",
       "      <td>S</td>\n",
       "    </tr>\n",
       "    <tr>\n",
       "      <th>freq</th>\n",
       "      <td>NaN</td>\n",
       "      <td>NaN</td>\n",
       "      <td>NaN</td>\n",
       "      <td>1</td>\n",
       "      <td>577</td>\n",
       "      <td>...</td>\n",
       "      <td>NaN</td>\n",
       "      <td>7</td>\n",
       "      <td>NaN</td>\n",
       "      <td>4</td>\n",
       "      <td>644</td>\n",
       "    </tr>\n",
       "    <tr>\n",
       "      <th>mean</th>\n",
       "      <td>446.000000</td>\n",
       "      <td>0.383838</td>\n",
       "      <td>2.308642</td>\n",
       "      <td>NaN</td>\n",
       "      <td>NaN</td>\n",
       "      <td>...</td>\n",
       "      <td>0.381594</td>\n",
       "      <td>NaN</td>\n",
       "      <td>32.204208</td>\n",
       "      <td>NaN</td>\n",
       "      <td>NaN</td>\n",
       "    </tr>\n",
       "    <tr>\n",
       "      <th>std</th>\n",
       "      <td>257.353842</td>\n",
       "      <td>0.486592</td>\n",
       "      <td>0.836071</td>\n",
       "      <td>NaN</td>\n",
       "      <td>NaN</td>\n",
       "      <td>...</td>\n",
       "      <td>0.806057</td>\n",
       "      <td>NaN</td>\n",
       "      <td>49.693429</td>\n",
       "      <td>NaN</td>\n",
       "      <td>NaN</td>\n",
       "    </tr>\n",
       "    <tr>\n",
       "      <th>min</th>\n",
       "      <td>1.000000</td>\n",
       "      <td>0.000000</td>\n",
       "      <td>1.000000</td>\n",
       "      <td>NaN</td>\n",
       "      <td>NaN</td>\n",
       "      <td>...</td>\n",
       "      <td>0.000000</td>\n",
       "      <td>NaN</td>\n",
       "      <td>0.000000</td>\n",
       "      <td>NaN</td>\n",
       "      <td>NaN</td>\n",
       "    </tr>\n",
       "    <tr>\n",
       "      <th>25%</th>\n",
       "      <td>223.500000</td>\n",
       "      <td>0.000000</td>\n",
       "      <td>2.000000</td>\n",
       "      <td>NaN</td>\n",
       "      <td>NaN</td>\n",
       "      <td>...</td>\n",
       "      <td>0.000000</td>\n",
       "      <td>NaN</td>\n",
       "      <td>7.910400</td>\n",
       "      <td>NaN</td>\n",
       "      <td>NaN</td>\n",
       "    </tr>\n",
       "    <tr>\n",
       "      <th>50%</th>\n",
       "      <td>446.000000</td>\n",
       "      <td>0.000000</td>\n",
       "      <td>3.000000</td>\n",
       "      <td>NaN</td>\n",
       "      <td>NaN</td>\n",
       "      <td>...</td>\n",
       "      <td>0.000000</td>\n",
       "      <td>NaN</td>\n",
       "      <td>14.454200</td>\n",
       "      <td>NaN</td>\n",
       "      <td>NaN</td>\n",
       "    </tr>\n",
       "    <tr>\n",
       "      <th>75%</th>\n",
       "      <td>668.500000</td>\n",
       "      <td>1.000000</td>\n",
       "      <td>3.000000</td>\n",
       "      <td>NaN</td>\n",
       "      <td>NaN</td>\n",
       "      <td>...</td>\n",
       "      <td>0.000000</td>\n",
       "      <td>NaN</td>\n",
       "      <td>31.000000</td>\n",
       "      <td>NaN</td>\n",
       "      <td>NaN</td>\n",
       "    </tr>\n",
       "    <tr>\n",
       "      <th>max</th>\n",
       "      <td>891.000000</td>\n",
       "      <td>1.000000</td>\n",
       "      <td>3.000000</td>\n",
       "      <td>NaN</td>\n",
       "      <td>NaN</td>\n",
       "      <td>...</td>\n",
       "      <td>6.000000</td>\n",
       "      <td>NaN</td>\n",
       "      <td>512.329200</td>\n",
       "      <td>NaN</td>\n",
       "      <td>NaN</td>\n",
       "    </tr>\n",
       "  </tbody>\n",
       "</table>\n",
       "<p>11 rows × 12 columns</p>\n",
       "</div>"
      ],
      "text/plain": [
       "        PassengerId    Survived      Pclass                     Name   Sex  ...       Parch  Ticket        Fare    Cabin  Embarked\n",
       "count    891.000000  891.000000  891.000000                      891   891  ...  891.000000     891  891.000000      204       889\n",
       "unique          NaN         NaN         NaN                      891     2  ...         NaN     681         NaN      147         3\n",
       "top             NaN         NaN         NaN  Braund, Mr. Owen Harris  male  ...         NaN  347082         NaN  B96 B98         S\n",
       "freq            NaN         NaN         NaN                        1   577  ...         NaN       7         NaN        4       644\n",
       "mean     446.000000    0.383838    2.308642                      NaN   NaN  ...    0.381594     NaN   32.204208      NaN       NaN\n",
       "std      257.353842    0.486592    0.836071                      NaN   NaN  ...    0.806057     NaN   49.693429      NaN       NaN\n",
       "min        1.000000    0.000000    1.000000                      NaN   NaN  ...    0.000000     NaN    0.000000      NaN       NaN\n",
       "25%      223.500000    0.000000    2.000000                      NaN   NaN  ...    0.000000     NaN    7.910400      NaN       NaN\n",
       "50%      446.000000    0.000000    3.000000                      NaN   NaN  ...    0.000000     NaN   14.454200      NaN       NaN\n",
       "75%      668.500000    1.000000    3.000000                      NaN   NaN  ...    0.000000     NaN   31.000000      NaN       NaN\n",
       "max      891.000000    1.000000    3.000000                      NaN   NaN  ...    6.000000     NaN  512.329200      NaN       NaN\n",
       "\n",
       "[11 rows x 12 columns]"
      ]
     },
     "execution_count": 12,
     "metadata": {},
     "output_type": "execute_result"
    }
   ],
   "source": [
    "train.describe(include='all')"
   ]
  },
  {
   "cell_type": "code",
   "execution_count": 13,
   "id": "5f985e71-e784-4711-8a76-c729f771a35f",
   "metadata": {},
   "outputs": [
    {
     "data": {
      "text/plain": [
       "PassengerId      int64\n",
       "Survived         int64\n",
       "Pclass           int64\n",
       "Name            object\n",
       "Sex             object\n",
       "Age            float64\n",
       "SibSp            int64\n",
       "Parch            int64\n",
       "Ticket          object\n",
       "Fare           float64\n",
       "Cabin           object\n",
       "Embarked        object\n",
       "dtype: object"
      ]
     },
     "execution_count": 13,
     "metadata": {},
     "output_type": "execute_result"
    }
   ],
   "source": [
    "train.dtypes"
   ]
  },
  {
   "cell_type": "code",
   "execution_count": 14,
   "id": "1b9c9ba6-5c00-4404-acf8-74f111bb43cf",
   "metadata": {},
   "outputs": [
    {
     "data": {
      "text/plain": [
       "PassengerId      int64\n",
       "Pclass           int64\n",
       "Name            object\n",
       "Sex             object\n",
       "Age            float64\n",
       "SibSp            int64\n",
       "Parch            int64\n",
       "Ticket          object\n",
       "Fare           float64\n",
       "Cabin           object\n",
       "Embarked        object\n",
       "dtype: object"
      ]
     },
     "execution_count": 14,
     "metadata": {},
     "output_type": "execute_result"
    }
   ],
   "source": [
    "test.dtypes"
   ]
  },
  {
   "cell_type": "code",
   "execution_count": 15,
   "id": "697e9987-d730-417f-ab3c-3d8918bf3ace",
   "metadata": {},
   "outputs": [
    {
     "name": "stdout",
     "output_type": "stream",
     "text": [
      "          PassengerId    Pclass        Age     SibSp     Parch       Fare\n",
      "Survived                                                                 \n",
      "0          442.299528  2.485849  30.626179  0.525943  0.365566  22.965456\n",
      "1          457.768966  1.872414  28.343690  0.493103  0.527586  51.843205\n"
     ]
    }
   ],
   "source": [
    "numeric_train = train.select_dtypes(include=['int64', 'float64']).dropna()\n",
    "\n",
    "\n",
    "mean_by_survived = numeric_train.groupby('Survived').mean()\n",
    "print(mean_by_survived)"
   ]
  },
  {
   "cell_type": "code",
   "execution_count": 16,
   "id": "ff28baa1-5d35-48ef-bbb0-d5859f55538b",
   "metadata": {},
   "outputs": [
    {
     "name": "stdout",
     "output_type": "stream",
     "text": [
      "             PassengerId  Survived    Pclass       Age     SibSp     Parch      Fare\n",
      "PassengerId     1.000000  0.029340 -0.035349  0.036847 -0.082398 -0.011617  0.009592\n",
      "Survived        0.029340  1.000000 -0.359653 -0.077221 -0.017358  0.093317  0.268189\n",
      "Pclass         -0.035349 -0.359653  1.000000 -0.369226  0.067247  0.025683 -0.554182\n",
      "Age             0.036847 -0.077221 -0.369226  1.000000 -0.308247 -0.189119  0.096067\n",
      "SibSp          -0.082398 -0.017358  0.067247 -0.308247  1.000000  0.383820  0.138329\n",
      "Parch          -0.011617  0.093317  0.025683 -0.189119  0.383820  1.000000  0.205119\n",
      "Fare            0.009592  0.268189 -0.554182  0.096067  0.138329  0.205119  1.000000\n"
     ]
    }
   ],
   "source": [
    "numeric_train = train.select_dtypes(include=['int64', 'float64']).dropna()\n",
    "\n",
    "\n",
    "correlation_matrix = numeric_train.corr()\n",
    "print(correlation_matrix)"
   ]
  },
  {
   "cell_type": "code",
   "execution_count": 17,
   "id": "4f473088-a8f6-4746-9c25-beb31dedb270",
   "metadata": {},
   "outputs": [
    {
     "name": "stdout",
     "output_type": "stream",
     "text": [
      "No of Males in Titanic: 577\n"
     ]
    }
   ],
   "source": [
    "male_ind = len(train[train['Sex'] == 'male'])\n",
    "print(\"No of Males in Titanic:\",male_ind)"
   ]
  },
  {
   "cell_type": "code",
   "execution_count": 18,
   "id": "15db3eac-36c7-47e8-b6d0-a47937be7033",
   "metadata": {},
   "outputs": [
    {
     "name": "stdout",
     "output_type": "stream",
     "text": [
      "No of Females in Titanic: 314\n"
     ]
    }
   ],
   "source": [
    "female_ind = len(train[train['Sex'] == 'female'])\n",
    "print(\"No of Females in Titanic:\",female_ind)"
   ]
  },
  {
   "cell_type": "code",
   "execution_count": 19,
   "id": "debc3fee-2d72-4fad-9e6a-547ed7c07de0",
   "metadata": {},
   "outputs": [
    {
     "data": {
      "image/png": "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",
      "text/plain": [
       "<Figure size 640x480 with 1 Axes>"
      ]
     },
     "metadata": {},
     "output_type": "display_data"
    }
   ],
   "source": [
    "fig=plt.figure()\n",
    "ax = fig.add_axes([0,0,1,1])\n",
    "gender = ['Male','Female']\n",
    "index = [577,314]\n",
    "ax.bar(gender,index)\n",
    "plt.xlabel(\"Gender\")\n",
    "plt.ylabel(\"No of people onboarding ship\")\n",
    "plt.show()"
   ]
  },
  {
   "cell_type": "code",
   "execution_count": 20,
   "id": "758168ba-570b-46b3-8555-db1379e9b3d8",
   "metadata": {},
   "outputs": [],
   "source": [
    "alive = len(train[train['Survived'] == 1])\n",
    "dead = len(train[train['Survived'] == 0])"
   ]
  },
  {
   "cell_type": "code",
   "execution_count": 21,
   "id": "61c43408-1e48-437a-88c0-e22091b3e254",
   "metadata": {},
   "outputs": [
    {
     "data": {
      "text/html": [
       "<div>\n",
       "<style scoped>\n",
       "    .dataframe tbody tr th:only-of-type {\n",
       "        vertical-align: middle;\n",
       "    }\n",
       "\n",
       "    .dataframe tbody tr th {\n",
       "        vertical-align: top;\n",
       "    }\n",
       "\n",
       "    .dataframe thead th {\n",
       "        text-align: right;\n",
       "    }\n",
       "</style>\n",
       "<table border=\"1\" class=\"dataframe\">\n",
       "  <thead>\n",
       "    <tr style=\"text-align: right;\">\n",
       "      <th></th>\n",
       "      <th>Survived</th>\n",
       "    </tr>\n",
       "    <tr>\n",
       "      <th>Sex</th>\n",
       "      <th></th>\n",
       "    </tr>\n",
       "  </thead>\n",
       "  <tbody>\n",
       "    <tr>\n",
       "      <th>female</th>\n",
       "      <td>0.742038</td>\n",
       "    </tr>\n",
       "    <tr>\n",
       "      <th>male</th>\n",
       "      <td>0.188908</td>\n",
       "    </tr>\n",
       "  </tbody>\n",
       "</table>\n",
       "</div>"
      ],
      "text/plain": [
       "        Survived\n",
       "Sex             \n",
       "female  0.742038\n",
       "male    0.188908"
      ]
     },
     "execution_count": 21,
     "metadata": {},
     "output_type": "execute_result"
    }
   ],
   "source": [
    "train.groupby('Sex')[['Survived']].mean()"
   ]
  },
  {
   "cell_type": "code",
   "execution_count": 22,
   "id": "db5cbdeb-a464-4aba-b8d7-7bbb995f7521",
   "metadata": {},
   "outputs": [
    {
     "data": {
      "image/png": "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",
      "text/plain": [
       "<Figure size 640x480 with 1 Axes>"
      ]
     },
     "metadata": {},
     "output_type": "display_data"
    }
   ],
   "source": [
    "fig = plt.figure()\n",
    "ax = fig.add_axes([0,0,1,1])\n",
    "status = ['Survived','Dead']\n",
    "ind = [alive,dead]\n",
    "ax.bar(status,ind)\n",
    "plt.xlabel(\"Status\")\n",
    "plt.show()"
   ]
  },
  {
   "cell_type": "code",
   "execution_count": 23,
   "id": "a5e595df-c4bc-4b9a-abf0-6ae85fa8d641",
   "metadata": {},
   "outputs": [
    {
     "data": {
      "text/plain": [
       "Text(0.5, 1.0, \"Bar graph of people according to ticket class in which people couldn't survive\")"
      ]
     },
     "execution_count": 23,
     "metadata": {},
     "output_type": "execute_result"
    },
    {
     "data": {
      "image/png": "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",
      "text/plain": [
       "<Figure size 640x480 with 1 Axes>"
      ]
     },
     "metadata": {},
     "output_type": "display_data"
    },
    {
     "data": {
      "image/png": "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",
      "text/plain": [
       "<Figure size 640x480 with 1 Axes>"
      ]
     },
     "metadata": {},
     "output_type": "display_data"
    }
   ],
   "source": [
    "plt.figure(1)\n",
    "train.loc[train['Survived'] == 1, 'Pclass'].value_counts().sort_index().plot.bar()\n",
    "plt.title('Bar graph of people according to ticket class in which people survived')\n",
    "\n",
    "\n",
    "plt.figure(2)\n",
    "train.loc[train['Survived'] == 0, 'Pclass'].value_counts().sort_index().plot.bar()\n",
    "plt.title('Bar graph of people according to ticket class in which people couldn\\'t survive')"
   ]
  },
  {
   "cell_type": "code",
   "execution_count": 24,
   "id": "4cabf2a8-eb9d-4a91-86ce-4ba958968133",
   "metadata": {},
   "outputs": [
    {
     "data": {
      "text/plain": [
       "([<matplotlib.axis.XTick at 0x1db78abf0d0>,\n",
       "  <matplotlib.axis.XTick at 0x1db783d7a90>,\n",
       "  <matplotlib.axis.XTick at 0x1db78b5a690>,\n",
       "  <matplotlib.axis.XTick at 0x1db78312e10>,\n",
       "  <matplotlib.axis.XTick at 0x1db78312210>,\n",
       "  <matplotlib.axis.XTick at 0x1db782d1d10>,\n",
       "  <matplotlib.axis.XTick at 0x1db782d3dd0>,\n",
       "  <matplotlib.axis.XTick at 0x1db782f5b50>,\n",
       "  <matplotlib.axis.XTick at 0x1db78319bd0>,\n",
       "  <matplotlib.axis.XTick at 0x1db783d7150>],\n",
       " [Text(0, 0, '0'),\n",
       "  Text(10, 0, '10'),\n",
       "  Text(20, 0, '20'),\n",
       "  Text(30, 0, '30'),\n",
       "  Text(40, 0, '40'),\n",
       "  Text(50, 0, '50'),\n",
       "  Text(60, 0, '60'),\n",
       "  Text(70, 0, '70'),\n",
       "  Text(80, 0, '80'),\n",
       "  Text(90, 0, '90')])"
      ]
     },
     "execution_count": 24,
     "metadata": {},
     "output_type": "execute_result"
    },
    {
     "data": {
      "image/png": "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",
      "text/plain": [
       "<Figure size 640x480 with 1 Axes>"
      ]
     },
     "metadata": {},
     "output_type": "display_data"
    },
    {
     "data": {
      "image/png": "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",
      "text/plain": [
       "<Figure size 640x480 with 1 Axes>"
      ]
     },
     "metadata": {},
     "output_type": "display_data"
    }
   ],
   "source": [
    "plt.figure(1)\n",
    "age  = train.loc[train.Survived == 1, 'Age']\n",
    "plt.title('The histogram of the age groups of the people that had survived')\n",
    "plt.hist(age, np.arange(0,100,10))\n",
    "plt.xticks(np.arange(0,100,10))\n",
    "\n",
    "\n",
    "plt.figure(2)\n",
    "age  = train.loc[train.Survived == 0, 'Age']\n",
    "plt.title('The histogram of the age groups of the people that coudn\\'t survive')\n",
    "plt.hist(age, np.arange(0,100,10))\n",
    "plt.xticks(np.arange(0,100,10))"
   ]
  },
  {
   "cell_type": "code",
   "execution_count": 25,
   "id": "eb134b59-638a-4549-b0c5-a4c984b89287",
   "metadata": {},
   "outputs": [
    {
     "data": {
      "text/html": [
       "<div>\n",
       "<style scoped>\n",
       "    .dataframe tbody tr th:only-of-type {\n",
       "        vertical-align: middle;\n",
       "    }\n",
       "\n",
       "    .dataframe tbody tr th {\n",
       "        vertical-align: top;\n",
       "    }\n",
       "\n",
       "    .dataframe thead th {\n",
       "        text-align: right;\n",
       "    }\n",
       "</style>\n",
       "<table border=\"1\" class=\"dataframe\">\n",
       "  <thead>\n",
       "    <tr style=\"text-align: right;\">\n",
       "      <th></th>\n",
       "      <th>SibSp</th>\n",
       "      <th>Survived</th>\n",
       "    </tr>\n",
       "  </thead>\n",
       "  <tbody>\n",
       "    <tr>\n",
       "      <th>1</th>\n",
       "      <td>1</td>\n",
       "      <td>0.535885</td>\n",
       "    </tr>\n",
       "    <tr>\n",
       "      <th>2</th>\n",
       "      <td>2</td>\n",
       "      <td>0.464286</td>\n",
       "    </tr>\n",
       "    <tr>\n",
       "      <th>0</th>\n",
       "      <td>0</td>\n",
       "      <td>0.345395</td>\n",
       "    </tr>\n",
       "    <tr>\n",
       "      <th>3</th>\n",
       "      <td>3</td>\n",
       "      <td>0.250000</td>\n",
       "    </tr>\n",
       "    <tr>\n",
       "      <th>4</th>\n",
       "      <td>4</td>\n",
       "      <td>0.166667</td>\n",
       "    </tr>\n",
       "    <tr>\n",
       "      <th>5</th>\n",
       "      <td>5</td>\n",
       "      <td>0.000000</td>\n",
       "    </tr>\n",
       "    <tr>\n",
       "      <th>6</th>\n",
       "      <td>8</td>\n",
       "      <td>0.000000</td>\n",
       "    </tr>\n",
       "  </tbody>\n",
       "</table>\n",
       "</div>"
      ],
      "text/plain": [
       "   SibSp  Survived\n",
       "1      1  0.535885\n",
       "2      2  0.464286\n",
       "0      0  0.345395\n",
       "3      3  0.250000\n",
       "4      4  0.166667\n",
       "5      5  0.000000\n",
       "6      8  0.000000"
      ]
     },
     "execution_count": 25,
     "metadata": {},
     "output_type": "execute_result"
    }
   ],
   "source": [
    "train[[\"SibSp\", \"Survived\"]].groupby(['SibSp'], as_index=False).mean().sort_values(by='Survived', ascending=False)\n"
   ]
  },
  {
   "cell_type": "code",
   "execution_count": 26,
   "id": "f5fb36b2-37f2-4cbc-b4ad-5e847c895f3e",
   "metadata": {},
   "outputs": [
    {
     "data": {
      "text/html": [
       "<div>\n",
       "<style scoped>\n",
       "    .dataframe tbody tr th:only-of-type {\n",
       "        vertical-align: middle;\n",
       "    }\n",
       "\n",
       "    .dataframe tbody tr th {\n",
       "        vertical-align: top;\n",
       "    }\n",
       "\n",
       "    .dataframe thead th {\n",
       "        text-align: right;\n",
       "    }\n",
       "</style>\n",
       "<table border=\"1\" class=\"dataframe\">\n",
       "  <thead>\n",
       "    <tr style=\"text-align: right;\">\n",
       "      <th></th>\n",
       "      <th>Pclass</th>\n",
       "      <th>Survived</th>\n",
       "    </tr>\n",
       "  </thead>\n",
       "  <tbody>\n",
       "    <tr>\n",
       "      <th>0</th>\n",
       "      <td>1</td>\n",
       "      <td>0.629630</td>\n",
       "    </tr>\n",
       "    <tr>\n",
       "      <th>1</th>\n",
       "      <td>2</td>\n",
       "      <td>0.472826</td>\n",
       "    </tr>\n",
       "    <tr>\n",
       "      <th>2</th>\n",
       "      <td>3</td>\n",
       "      <td>0.242363</td>\n",
       "    </tr>\n",
       "  </tbody>\n",
       "</table>\n",
       "</div>"
      ],
      "text/plain": [
       "   Pclass  Survived\n",
       "0       1  0.629630\n",
       "1       2  0.472826\n",
       "2       3  0.242363"
      ]
     },
     "execution_count": 26,
     "metadata": {},
     "output_type": "execute_result"
    }
   ],
   "source": [
    "train[[\"Pclass\", \"Survived\"]].groupby(['Pclass'], as_index=False).mean().sort_values(by='Survived', ascending=False)\n"
   ]
  },
  {
   "cell_type": "code",
   "execution_count": 27,
   "id": "a1b00558-dc34-472a-9fe5-6a9671205851",
   "metadata": {},
   "outputs": [
    {
     "data": {
      "text/html": [
       "<div>\n",
       "<style scoped>\n",
       "    .dataframe tbody tr th:only-of-type {\n",
       "        vertical-align: middle;\n",
       "    }\n",
       "\n",
       "    .dataframe tbody tr th {\n",
       "        vertical-align: top;\n",
       "    }\n",
       "\n",
       "    .dataframe thead th {\n",
       "        text-align: right;\n",
       "    }\n",
       "</style>\n",
       "<table border=\"1\" class=\"dataframe\">\n",
       "  <thead>\n",
       "    <tr style=\"text-align: right;\">\n",
       "      <th></th>\n",
       "      <th>Age</th>\n",
       "      <th>Survived</th>\n",
       "    </tr>\n",
       "  </thead>\n",
       "  <tbody>\n",
       "    <tr>\n",
       "      <th>0</th>\n",
       "      <td>0.42</td>\n",
       "      <td>1.0</td>\n",
       "    </tr>\n",
       "    <tr>\n",
       "      <th>1</th>\n",
       "      <td>0.67</td>\n",
       "      <td>1.0</td>\n",
       "    </tr>\n",
       "    <tr>\n",
       "      <th>2</th>\n",
       "      <td>0.75</td>\n",
       "      <td>1.0</td>\n",
       "    </tr>\n",
       "    <tr>\n",
       "      <th>3</th>\n",
       "      <td>0.83</td>\n",
       "      <td>1.0</td>\n",
       "    </tr>\n",
       "    <tr>\n",
       "      <th>4</th>\n",
       "      <td>0.92</td>\n",
       "      <td>1.0</td>\n",
       "    </tr>\n",
       "    <tr>\n",
       "      <th>...</th>\n",
       "      <td>...</td>\n",
       "      <td>...</td>\n",
       "    </tr>\n",
       "    <tr>\n",
       "      <th>83</th>\n",
       "      <td>70.00</td>\n",
       "      <td>0.0</td>\n",
       "    </tr>\n",
       "    <tr>\n",
       "      <th>84</th>\n",
       "      <td>70.50</td>\n",
       "      <td>0.0</td>\n",
       "    </tr>\n",
       "    <tr>\n",
       "      <th>85</th>\n",
       "      <td>71.00</td>\n",
       "      <td>0.0</td>\n",
       "    </tr>\n",
       "    <tr>\n",
       "      <th>86</th>\n",
       "      <td>74.00</td>\n",
       "      <td>0.0</td>\n",
       "    </tr>\n",
       "    <tr>\n",
       "      <th>87</th>\n",
       "      <td>80.00</td>\n",
       "      <td>1.0</td>\n",
       "    </tr>\n",
       "  </tbody>\n",
       "</table>\n",
       "<p>88 rows × 2 columns</p>\n",
       "</div>"
      ],
      "text/plain": [
       "      Age  Survived\n",
       "0    0.42       1.0\n",
       "1    0.67       1.0\n",
       "2    0.75       1.0\n",
       "3    0.83       1.0\n",
       "4    0.92       1.0\n",
       "..    ...       ...\n",
       "83  70.00       0.0\n",
       "84  70.50       0.0\n",
       "85  71.00       0.0\n",
       "86  74.00       0.0\n",
       "87  80.00       1.0\n",
       "\n",
       "[88 rows x 2 columns]"
      ]
     },
     "execution_count": 27,
     "metadata": {},
     "output_type": "execute_result"
    }
   ],
   "source": [
    "train[[\"Age\", \"Survived\"]].groupby(['Age'], as_index=False).mean().sort_values(by='Age', ascending=True)\n"
   ]
  },
  {
   "cell_type": "code",
   "execution_count": 28,
   "id": "2c712308-c35a-4b93-8dc1-9d1199eaadb1",
   "metadata": {},
   "outputs": [
    {
     "data": {
      "text/html": [
       "<div>\n",
       "<style scoped>\n",
       "    .dataframe tbody tr th:only-of-type {\n",
       "        vertical-align: middle;\n",
       "    }\n",
       "\n",
       "    .dataframe tbody tr th {\n",
       "        vertical-align: top;\n",
       "    }\n",
       "\n",
       "    .dataframe thead th {\n",
       "        text-align: right;\n",
       "    }\n",
       "</style>\n",
       "<table border=\"1\" class=\"dataframe\">\n",
       "  <thead>\n",
       "    <tr style=\"text-align: right;\">\n",
       "      <th></th>\n",
       "      <th>Embarked</th>\n",
       "      <th>Survived</th>\n",
       "    </tr>\n",
       "  </thead>\n",
       "  <tbody>\n",
       "    <tr>\n",
       "      <th>0</th>\n",
       "      <td>C</td>\n",
       "      <td>0.553571</td>\n",
       "    </tr>\n",
       "    <tr>\n",
       "      <th>1</th>\n",
       "      <td>Q</td>\n",
       "      <td>0.389610</td>\n",
       "    </tr>\n",
       "    <tr>\n",
       "      <th>2</th>\n",
       "      <td>S</td>\n",
       "      <td>0.336957</td>\n",
       "    </tr>\n",
       "  </tbody>\n",
       "</table>\n",
       "</div>"
      ],
      "text/plain": [
       "  Embarked  Survived\n",
       "0        C  0.553571\n",
       "1        Q  0.389610\n",
       "2        S  0.336957"
      ]
     },
     "execution_count": 28,
     "metadata": {},
     "output_type": "execute_result"
    }
   ],
   "source": [
    "train[[\"Embarked\", \"Survived\"]].groupby(['Embarked'], as_index=False).mean().sort_values(by='Survived', ascending=False)\n"
   ]
  },
  {
   "cell_type": "code",
   "execution_count": 29,
   "id": "f9463676-3831-455f-8a31-2d76c53c28ee",
   "metadata": {},
   "outputs": [
    {
     "data": {
      "image/png": "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",
      "text/plain": [
       "<Figure size 640x480 with 1 Axes>"
      ]
     },
     "metadata": {},
     "output_type": "display_data"
    }
   ],
   "source": [
    "fig = plt.figure()\n",
    "ax = fig.add_axes([0,0,1,1])\n",
    "ax.axis('equal')\n",
    "l = ['C = Cherbourg', 'Q = Queenstown', 'S = Southampton']\n",
    "s = [0.553571,0.389610,0.336957]\n",
    "ax.pie(s, labels = l,autopct='%1.2f%%')\n",
    "plt.show()"
   ]
  },
  {
   "cell_type": "code",
   "execution_count": 30,
   "id": "cb334754-1140-4225-aa13-12d73c3cbf8a",
   "metadata": {},
   "outputs": [
    {
     "data": {
      "text/html": [
       "<div>\n",
       "<style scoped>\n",
       "    .dataframe tbody tr th:only-of-type {\n",
       "        vertical-align: middle;\n",
       "    }\n",
       "\n",
       "    .dataframe tbody tr th {\n",
       "        vertical-align: top;\n",
       "    }\n",
       "\n",
       "    .dataframe thead th {\n",
       "        text-align: right;\n",
       "    }\n",
       "</style>\n",
       "<table border=\"1\" class=\"dataframe\">\n",
       "  <thead>\n",
       "    <tr style=\"text-align: right;\">\n",
       "      <th></th>\n",
       "      <th>PassengerId</th>\n",
       "      <th>Pclass</th>\n",
       "      <th>Name</th>\n",
       "      <th>Sex</th>\n",
       "      <th>Age</th>\n",
       "      <th>...</th>\n",
       "      <th>Parch</th>\n",
       "      <th>Ticket</th>\n",
       "      <th>Fare</th>\n",
       "      <th>Cabin</th>\n",
       "      <th>Embarked</th>\n",
       "    </tr>\n",
       "  </thead>\n",
       "  <tbody>\n",
       "    <tr>\n",
       "      <th>count</th>\n",
       "      <td>418.000000</td>\n",
       "      <td>418.000000</td>\n",
       "      <td>418</td>\n",
       "      <td>418</td>\n",
       "      <td>332.000000</td>\n",
       "      <td>...</td>\n",
       "      <td>418.000000</td>\n",
       "      <td>418</td>\n",
       "      <td>417.000000</td>\n",
       "      <td>91</td>\n",
       "      <td>418</td>\n",
       "    </tr>\n",
       "    <tr>\n",
       "      <th>unique</th>\n",
       "      <td>NaN</td>\n",
       "      <td>NaN</td>\n",
       "      <td>418</td>\n",
       "      <td>2</td>\n",
       "      <td>NaN</td>\n",
       "      <td>...</td>\n",
       "      <td>NaN</td>\n",
       "      <td>363</td>\n",
       "      <td>NaN</td>\n",
       "      <td>76</td>\n",
       "      <td>3</td>\n",
       "    </tr>\n",
       "    <tr>\n",
       "      <th>top</th>\n",
       "      <td>NaN</td>\n",
       "      <td>NaN</td>\n",
       "      <td>Kelly, Mr. James</td>\n",
       "      <td>male</td>\n",
       "      <td>NaN</td>\n",
       "      <td>...</td>\n",
       "      <td>NaN</td>\n",
       "      <td>PC 17608</td>\n",
       "      <td>NaN</td>\n",
       "      <td>B57 B59 B63 B66</td>\n",
       "      <td>S</td>\n",
       "    </tr>\n",
       "    <tr>\n",
       "      <th>freq</th>\n",
       "      <td>NaN</td>\n",
       "      <td>NaN</td>\n",
       "      <td>1</td>\n",
       "      <td>266</td>\n",
       "      <td>NaN</td>\n",
       "      <td>...</td>\n",
       "      <td>NaN</td>\n",
       "      <td>5</td>\n",
       "      <td>NaN</td>\n",
       "      <td>3</td>\n",
       "      <td>270</td>\n",
       "    </tr>\n",
       "    <tr>\n",
       "      <th>mean</th>\n",
       "      <td>1100.500000</td>\n",
       "      <td>2.265550</td>\n",
       "      <td>NaN</td>\n",
       "      <td>NaN</td>\n",
       "      <td>30.272590</td>\n",
       "      <td>...</td>\n",
       "      <td>0.392344</td>\n",
       "      <td>NaN</td>\n",
       "      <td>35.627188</td>\n",
       "      <td>NaN</td>\n",
       "      <td>NaN</td>\n",
       "    </tr>\n",
       "    <tr>\n",
       "      <th>std</th>\n",
       "      <td>120.810458</td>\n",
       "      <td>0.841838</td>\n",
       "      <td>NaN</td>\n",
       "      <td>NaN</td>\n",
       "      <td>14.181209</td>\n",
       "      <td>...</td>\n",
       "      <td>0.981429</td>\n",
       "      <td>NaN</td>\n",
       "      <td>55.907576</td>\n",
       "      <td>NaN</td>\n",
       "      <td>NaN</td>\n",
       "    </tr>\n",
       "    <tr>\n",
       "      <th>min</th>\n",
       "      <td>892.000000</td>\n",
       "      <td>1.000000</td>\n",
       "      <td>NaN</td>\n",
       "      <td>NaN</td>\n",
       "      <td>0.170000</td>\n",
       "      <td>...</td>\n",
       "      <td>0.000000</td>\n",
       "      <td>NaN</td>\n",
       "      <td>0.000000</td>\n",
       "      <td>NaN</td>\n",
       "      <td>NaN</td>\n",
       "    </tr>\n",
       "    <tr>\n",
       "      <th>25%</th>\n",
       "      <td>996.250000</td>\n",
       "      <td>1.000000</td>\n",
       "      <td>NaN</td>\n",
       "      <td>NaN</td>\n",
       "      <td>21.000000</td>\n",
       "      <td>...</td>\n",
       "      <td>0.000000</td>\n",
       "      <td>NaN</td>\n",
       "      <td>7.895800</td>\n",
       "      <td>NaN</td>\n",
       "      <td>NaN</td>\n",
       "    </tr>\n",
       "    <tr>\n",
       "      <th>50%</th>\n",
       "      <td>1100.500000</td>\n",
       "      <td>3.000000</td>\n",
       "      <td>NaN</td>\n",
       "      <td>NaN</td>\n",
       "      <td>27.000000</td>\n",
       "      <td>...</td>\n",
       "      <td>0.000000</td>\n",
       "      <td>NaN</td>\n",
       "      <td>14.454200</td>\n",
       "      <td>NaN</td>\n",
       "      <td>NaN</td>\n",
       "    </tr>\n",
       "    <tr>\n",
       "      <th>75%</th>\n",
       "      <td>1204.750000</td>\n",
       "      <td>3.000000</td>\n",
       "      <td>NaN</td>\n",
       "      <td>NaN</td>\n",
       "      <td>39.000000</td>\n",
       "      <td>...</td>\n",
       "      <td>0.000000</td>\n",
       "      <td>NaN</td>\n",
       "      <td>31.500000</td>\n",
       "      <td>NaN</td>\n",
       "      <td>NaN</td>\n",
       "    </tr>\n",
       "    <tr>\n",
       "      <th>max</th>\n",
       "      <td>1309.000000</td>\n",
       "      <td>3.000000</td>\n",
       "      <td>NaN</td>\n",
       "      <td>NaN</td>\n",
       "      <td>76.000000</td>\n",
       "      <td>...</td>\n",
       "      <td>9.000000</td>\n",
       "      <td>NaN</td>\n",
       "      <td>512.329200</td>\n",
       "      <td>NaN</td>\n",
       "      <td>NaN</td>\n",
       "    </tr>\n",
       "  </tbody>\n",
       "</table>\n",
       "<p>11 rows × 11 columns</p>\n",
       "</div>"
      ],
      "text/plain": [
       "        PassengerId      Pclass              Name   Sex         Age  ...       Parch    Ticket        Fare            Cabin Embarked\n",
       "count    418.000000  418.000000               418   418  332.000000  ...  418.000000       418  417.000000               91      418\n",
       "unique          NaN         NaN               418     2         NaN  ...         NaN       363         NaN               76        3\n",
       "top             NaN         NaN  Kelly, Mr. James  male         NaN  ...         NaN  PC 17608         NaN  B57 B59 B63 B66        S\n",
       "freq            NaN         NaN                 1   266         NaN  ...         NaN         5         NaN                3      270\n",
       "mean    1100.500000    2.265550               NaN   NaN   30.272590  ...    0.392344       NaN   35.627188              NaN      NaN\n",
       "std      120.810458    0.841838               NaN   NaN   14.181209  ...    0.981429       NaN   55.907576              NaN      NaN\n",
       "min      892.000000    1.000000               NaN   NaN    0.170000  ...    0.000000       NaN    0.000000              NaN      NaN\n",
       "25%      996.250000    1.000000               NaN   NaN   21.000000  ...    0.000000       NaN    7.895800              NaN      NaN\n",
       "50%     1100.500000    3.000000               NaN   NaN   27.000000  ...    0.000000       NaN   14.454200              NaN      NaN\n",
       "75%     1204.750000    3.000000               NaN   NaN   39.000000  ...    0.000000       NaN   31.500000              NaN      NaN\n",
       "max     1309.000000    3.000000               NaN   NaN   76.000000  ...    9.000000       NaN  512.329200              NaN      NaN\n",
       "\n",
       "[11 rows x 11 columns]"
      ]
     },
     "execution_count": 30,
     "metadata": {},
     "output_type": "execute_result"
    }
   ],
   "source": [
    "test.describe(include=\"all\")\n"
   ]
  },
  {
   "cell_type": "code",
   "execution_count": 31,
   "id": "24cf9265-e0b2-4e6d-8a0c-e709e9ae5926",
   "metadata": {},
   "outputs": [],
   "source": [
    "train = train.drop(['Ticket'], axis = 1)\n",
    "test = test.drop(['Ticket'], axis = 1)"
   ]
  },
  {
   "cell_type": "code",
   "execution_count": 32,
   "id": "9b8880f9-65a5-464e-a02f-3c80c456798e",
   "metadata": {},
   "outputs": [],
   "source": [
    "train = train.drop(['Cabin'], axis = 1)\n",
    "test = test.drop(['Cabin'], axis = 1)"
   ]
  },
  {
   "cell_type": "code",
   "execution_count": 33,
   "id": "cb5d67a9-8c51-4b40-9365-898999d7b87c",
   "metadata": {},
   "outputs": [],
   "source": [
    "train = train.drop(['Name'], axis = 1)\n",
    "test = test.drop(['Name'], axis = 1)"
   ]
  },
  {
   "cell_type": "code",
   "execution_count": 34,
   "id": "cc8e745c-bb30-452f-a150-ed3c03465f00",
   "metadata": {},
   "outputs": [],
   "source": [
    "column_train=['Age','Pclass','SibSp','Parch','Fare','Sex','Embarked']\n",
    "\n",
    "X=train[column_train]\n",
    "\n",
    "Y=train['Survived']"
   ]
  },
  {
   "cell_type": "code",
   "execution_count": 35,
   "id": "9a7f369e-b98a-4f1c-93f9-13003a5aeaaf",
   "metadata": {},
   "outputs": [
    {
     "data": {
      "text/plain": [
       "2"
      ]
     },
     "execution_count": 35,
     "metadata": {},
     "output_type": "execute_result"
    }
   ],
   "source": [
    "X['Age'].isnull().sum()\n",
    "X['Pclass'].isnull().sum()\n",
    "X['SibSp'].isnull().sum()\n",
    "X['Parch'].isnull().sum()\n",
    "X['Fare'].isnull().sum()\n",
    "X['Sex'].isnull().sum()\n",
    "X['Embarked'].isnull().sum()"
   ]
  },
  {
   "cell_type": "code",
   "execution_count": 36,
   "id": "e116ba39-f8fe-4bb4-815d-70a38947200f",
   "metadata": {},
   "outputs": [
    {
     "data": {
      "text/plain": [
       "0"
      ]
     },
     "execution_count": 36,
     "metadata": {},
     "output_type": "execute_result"
    }
   ],
   "source": [
    "X['Age']=X['Age'].fillna(X['Age'].median())\n",
    "X['Age'].isnull().sum()"
   ]
  },
  {
   "cell_type": "code",
   "execution_count": 37,
   "id": "af2c6c49-9001-48fd-a8bc-1691d097d6f9",
   "metadata": {},
   "outputs": [
    {
     "data": {
      "text/plain": [
       "0"
      ]
     },
     "execution_count": 37,
     "metadata": {},
     "output_type": "execute_result"
    }
   ],
   "source": [
    "X['Embarked'] = train['Embarked'].fillna(method ='pad')\n",
    "X['Embarked'].isnull().sum()"
   ]
  },
  {
   "cell_type": "code",
   "execution_count": 38,
   "id": "92e11a43-b93b-4bc6-9a5b-c232c954c328",
   "metadata": {},
   "outputs": [
    {
     "data": {
      "text/plain": [
       "0    0\n",
       "1    1\n",
       "2    1\n",
       "3    1\n",
       "4    0\n",
       "Name: Sex, dtype: int64"
      ]
     },
     "execution_count": 38,
     "metadata": {},
     "output_type": "execute_result"
    }
   ],
   "source": [
    "d={'male':0, 'female':1}\n",
    "X['Sex']=X['Sex'].apply(lambda x:d[x])\n",
    "X['Sex'].head()"
   ]
  },
  {
   "cell_type": "code",
   "execution_count": 39,
   "id": "6361b79f-b291-4e22-8a72-f3a297febac6",
   "metadata": {},
   "outputs": [
    {
     "data": {
      "text/plain": [
       "0    2\n",
       "1    0\n",
       "2    2\n",
       "3    2\n",
       "4    2\n",
       "Name: Embarked, dtype: int64"
      ]
     },
     "execution_count": 39,
     "metadata": {},
     "output_type": "execute_result"
    }
   ],
   "source": [
    "e={'C':0, 'Q':1 ,'S':2}\n",
    "X['Embarked']=X['Embarked'].apply(lambda x:e[x])\n",
    "X['Embarked'].head()"
   ]
  },
  {
   "cell_type": "code",
   "execution_count": 40,
   "id": "02e2c303-68a5-40ee-8afc-9f42d6ab16db",
   "metadata": {},
   "outputs": [],
   "source": [
    "from sklearn.model_selection import train_test_split\n",
    "X_train, X_test, Y_train, Y_test = train_test_split(X,Y,test_size=0.3,random_state=7)"
   ]
  },
  {
   "cell_type": "code",
   "execution_count": 41,
   "id": "b5a76b0f-ca0b-412f-9c4f-456f12c9f7f8",
   "metadata": {},
   "outputs": [
    {
     "name": "stdout",
     "output_type": "stream",
     "text": [
      "Accuracy Score: 0.7611940298507462\n"
     ]
    }
   ],
   "source": [
    "from sklearn.linear_model import LogisticRegression\n",
    "model = LogisticRegression()\n",
    "model.fit(X_train,Y_train)\n",
    "Y_pred = model.predict(X_test)\n",
    "\n",
    "from sklearn.metrics import accuracy_score\n",
    "print(\"Accuracy Score:\",accuracy_score(Y_test,Y_pred))"
   ]
  },
  {
   "cell_type": "code",
   "execution_count": 42,
   "id": "2a8f1d57-665d-4397-bc3b-b0d17750a884",
   "metadata": {},
   "outputs": [
    {
     "name": "stdout",
     "output_type": "stream",
     "text": [
      "[[131  25]\n",
      " [ 39  73]]\n"
     ]
    }
   ],
   "source": [
    "from sklearn.metrics import accuracy_score,confusion_matrix\n",
    "confusion_mat = confusion_matrix(Y_test,Y_pred)\n",
    "print(confusion_mat)"
   ]
  },
  {
   "cell_type": "code",
   "execution_count": 43,
   "id": "4bdf67a5-a83a-4eea-9e68-458d600fcf44",
   "metadata": {},
   "outputs": [
    {
     "name": "stdout",
     "output_type": "stream",
     "text": [
      "Acc= 0.6604477611940298\n"
     ]
    }
   ],
   "source": [
    "from sklearn.svm import SVC\n",
    "model1 = SVC()\n",
    "model1.fit(X_train,Y_train)\n",
    "\n",
    "pred_y = model1.predict(X_test)\n",
    "\n",
    "from sklearn.metrics import accuracy_score\n",
    "print(\"Acc=\",accuracy_score(Y_test,pred_y))"
   ]
  },
  {
   "cell_type": "code",
   "execution_count": 44,
   "id": "2b4e2ca6-7dde-4bb8-b7e4-758e4c2fb177",
   "metadata": {},
   "outputs": [
    {
     "name": "stdout",
     "output_type": "stream",
     "text": [
      "[[149   7]\n",
      " [ 84  28]]\n",
      "              precision    recall  f1-score   support\n",
      "\n",
      "           0       0.64      0.96      0.77       156\n",
      "           1       0.80      0.25      0.38       112\n",
      "\n",
      "    accuracy                           0.66       268\n",
      "   macro avg       0.72      0.60      0.57       268\n",
      "weighted avg       0.71      0.66      0.61       268\n",
      "\n"
     ]
    }
   ],
   "source": [
    "from sklearn.metrics import accuracy_score,confusion_matrix,classification_report\n",
    "confusion_mat = confusion_matrix(Y_test,pred_y)\n",
    "print(confusion_mat)\n",
    "print(classification_report(Y_test,pred_y))"
   ]
  },
  {
   "cell_type": "code",
   "execution_count": 45,
   "id": "95bdc5cd-7062-46ff-9c73-96fdac47eb75",
   "metadata": {},
   "outputs": [
    {
     "name": "stdout",
     "output_type": "stream",
     "text": [
      "Accuracy Score: 0.6604477611940298\n"
     ]
    }
   ],
   "source": [
    "from sklearn.neighbors import KNeighborsClassifier\n",
    "model2 = KNeighborsClassifier(n_neighbors=5)\n",
    "model2.fit(X_train,Y_train)\n",
    "y_pred2 = model2.predict(X_test)\n",
    "\n",
    "from sklearn.metrics import accuracy_score\n",
    "print(\"Accuracy Score:\",accuracy_score(Y_test,y_pred2))"
   ]
  },
  {
   "cell_type": "code",
   "execution_count": 46,
   "id": "7fa57eeb-e677-4774-87f4-b49a3d6ff753",
   "metadata": {},
   "outputs": [
    {
     "name": "stdout",
     "output_type": "stream",
     "text": [
      "[[127  29]\n",
      " [ 62  50]]\n",
      "              precision    recall  f1-score   support\n",
      "\n",
      "           0       0.67      0.81      0.74       156\n",
      "           1       0.63      0.45      0.52       112\n",
      "\n",
      "    accuracy                           0.66       268\n",
      "   macro avg       0.65      0.63      0.63       268\n",
      "weighted avg       0.66      0.66      0.65       268\n",
      "\n"
     ]
    }
   ],
   "source": [
    "from sklearn.metrics import accuracy_score,confusion_matrix,classification_report\n",
    "confusion_mat = confusion_matrix(Y_test,y_pred2)\n",
    "print(confusion_mat)\n",
    "print(classification_report(Y_test,y_pred2))"
   ]
  },
  {
   "cell_type": "code",
   "execution_count": 47,
   "id": "7f2e5d02-77ba-432a-aab4-8fb33f10ebc2",
   "metadata": {},
   "outputs": [
    {
     "name": "stdout",
     "output_type": "stream",
     "text": [
      "Accuracy Score: 0.7686567164179104\n"
     ]
    }
   ],
   "source": [
    "from sklearn.naive_bayes import GaussianNB\n",
    "model3 = GaussianNB()\n",
    "model3.fit(X_train,Y_train)\n",
    "y_pred3 = model3.predict(X_test)\n",
    "\n",
    "from sklearn.metrics import accuracy_score\n",
    "print(\"Accuracy Score:\",accuracy_score(Y_test,y_pred3))"
   ]
  },
  {
   "cell_type": "code",
   "execution_count": 48,
   "id": "bdf4e8b9-2be4-4940-946f-f735370867dd",
   "metadata": {},
   "outputs": [
    {
     "name": "stdout",
     "output_type": "stream",
     "text": [
      "[[129  27]\n",
      " [ 35  77]]\n",
      "              precision    recall  f1-score   support\n",
      "\n",
      "           0       0.79      0.83      0.81       156\n",
      "           1       0.74      0.69      0.71       112\n",
      "\n",
      "    accuracy                           0.77       268\n",
      "   macro avg       0.76      0.76      0.76       268\n",
      "weighted avg       0.77      0.77      0.77       268\n",
      "\n"
     ]
    }
   ],
   "source": [
    "from sklearn.metrics import accuracy_score,confusion_matrix,classification_report\n",
    "confusion_mat = confusion_matrix(Y_test,y_pred3)\n",
    "print(confusion_mat)\n",
    "print(classification_report(Y_test,y_pred3))"
   ]
  },
  {
   "cell_type": "code",
   "execution_count": 49,
   "id": "8c8df62f-f923-4802-9510-8db8c79fd952",
   "metadata": {},
   "outputs": [
    {
     "name": "stdout",
     "output_type": "stream",
     "text": [
      "Accuracy Score: 0.7425373134328358\n"
     ]
    }
   ],
   "source": [
    "from sklearn.tree import DecisionTreeClassifier\n",
    "model4 = DecisionTreeClassifier(criterion='entropy',random_state=7)\n",
    "model4.fit(X_train,Y_train)\n",
    "y_pred4 = model4.predict(X_test)\n",
    "\n",
    "from sklearn.metrics import accuracy_score\n",
    "print(\"Accuracy Score:\",accuracy_score(Y_test,y_pred4))"
   ]
  },
  {
   "cell_type": "code",
   "execution_count": 50,
   "id": "fe799ba6-c020-4fb6-901a-164891f27c8b",
   "metadata": {},
   "outputs": [
    {
     "name": "stdout",
     "output_type": "stream",
     "text": [
      "[[132  24]\n",
      " [ 45  67]]\n",
      "              precision    recall  f1-score   support\n",
      "\n",
      "           0       0.75      0.85      0.79       156\n",
      "           1       0.74      0.60      0.66       112\n",
      "\n",
      "    accuracy                           0.74       268\n",
      "   macro avg       0.74      0.72      0.73       268\n",
      "weighted avg       0.74      0.74      0.74       268\n",
      "\n"
     ]
    }
   ],
   "source": [
    "from sklearn.metrics import accuracy_score,confusion_matrix,classification_report\n",
    "confusion_mat = confusion_matrix(Y_test,y_pred4)\n",
    "print(confusion_mat)\n",
    "print(classification_report(Y_test,y_pred4))"
   ]
  },
  {
   "cell_type": "code",
   "execution_count": 51,
   "id": "841ec090-6fe4-4de8-aa10-dcaa450441a6",
   "metadata": {},
   "outputs": [
    {
     "data": {
      "text/html": [
       "<div>\n",
       "<style scoped>\n",
       "    .dataframe tbody tr th:only-of-type {\n",
       "        vertical-align: middle;\n",
       "    }\n",
       "\n",
       "    .dataframe tbody tr th {\n",
       "        vertical-align: top;\n",
       "    }\n",
       "\n",
       "    .dataframe thead th {\n",
       "        text-align: right;\n",
       "    }\n",
       "</style>\n",
       "<table border=\"1\" class=\"dataframe\">\n",
       "  <thead>\n",
       "    <tr style=\"text-align: right;\">\n",
       "      <th></th>\n",
       "      <th>Model</th>\n",
       "    </tr>\n",
       "    <tr>\n",
       "      <th>Score</th>\n",
       "      <th></th>\n",
       "    </tr>\n",
       "  </thead>\n",
       "  <tbody>\n",
       "    <tr>\n",
       "      <th>0.76</th>\n",
       "      <td>Naive Bayes</td>\n",
       "    </tr>\n",
       "    <tr>\n",
       "      <th>0.75</th>\n",
       "      <td>Logistic Regression</td>\n",
       "    </tr>\n",
       "    <tr>\n",
       "      <th>0.74</th>\n",
       "      <td>Decision Tree</td>\n",
       "    </tr>\n",
       "    <tr>\n",
       "      <th>0.66</th>\n",
       "      <td>Support Vector Machines</td>\n",
       "    </tr>\n",
       "    <tr>\n",
       "      <th>0.66</th>\n",
       "      <td>KNN</td>\n",
       "    </tr>\n",
       "  </tbody>\n",
       "</table>\n",
       "</div>"
      ],
      "text/plain": [
       "                         Model\n",
       "Score                         \n",
       "0.76               Naive Bayes\n",
       "0.75       Logistic Regression\n",
       "0.74             Decision Tree\n",
       "0.66   Support Vector Machines\n",
       "0.66                       KNN"
      ]
     },
     "execution_count": 51,
     "metadata": {},
     "output_type": "execute_result"
    }
   ],
   "source": [
    "results = pd.DataFrame({\n",
    "    'Model': ['Logistic Regression','Support Vector Machines', 'Naive Bayes','KNN' ,'Decision Tree'],\n",
    "    'Score': [0.75,0.66,0.76,0.66,0.74]})\n",
    "\n",
    "result_df = results.sort_values(by='Score', ascending=False)\n",
    "result_df = result_df.set_index('Score')\n",
    "result_df.head(9)"
   ]
  },
  {
   "cell_type": "code",
   "execution_count": null,
   "id": "ecb91ba2-641f-4f4c-a53f-578ad9ea6c89",
   "metadata": {},
   "outputs": [],
   "source": []
  }
 ],
 "metadata": {
  "kernelspec": {
   "display_name": "Python 3 (ipykernel)",
   "language": "python",
   "name": "python3"
  },
  "language_info": {
   "codemirror_mode": {
    "name": "ipython",
    "version": 3
   },
   "file_extension": ".py",
   "mimetype": "text/x-python",
   "name": "python",
   "nbconvert_exporter": "python",
   "pygments_lexer": "ipython3",
   "version": "3.11.7"
  }
 },
 "nbformat": 4,
 "nbformat_minor": 5
}
